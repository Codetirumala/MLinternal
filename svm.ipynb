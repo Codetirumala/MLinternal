{
 "cells": [
  {
   "cell_type": "code",
   "execution_count": 2,
   "id": "3b723d4d-0a47-4603-9883-8ab7fc5ed7fa",
   "metadata": {},
   "outputs": [
    {
     "name": "stdout",
     "output_type": "stream",
     "text": [
      "Accuracy: 1.0\n"
     ]
    }
   ],
   "source": [
    "import pandas as pd \n",
    "from sklearn import svm\n",
    "from sklearn.model_selection import train_test_split\n",
    "from sklearn.metrics import accuracy_score\n",
    "# Load the dataset\n",
    "iris =pd.read_csv('iris.data', names=['sepal_length', 'sepal_width', 'petal_length', 'petal_width', 'class']) \n",
    "# Split the dataset into training and testing sets \n",
    "X_train, X_test, y_train, y_test = train_test_split(iris.drop('class', axis=1), iris['class'], test_size=0.3, random_state=42) \n",
    "# Create an SVM classifier object \n",
    "clf = svm.SVC(kernel='rbf') \n",
    "# Fit the SVM classifier to the training \n",
    "clf.fit(X_train, y_train) \n",
    "# Make predictions on the testing data \n",
    "y_pred = clf.predict(X_test) \n",
    "# Calculate the accuracy score \n",
    "accuracy = accuracy_score(y_test, y_pred) \n",
    "print(\"Accuracy:\",accuracy)"
   ]
  },
  {
   "cell_type": "code",
   "execution_count": null,
   "id": "3b572497-9ebd-475a-a91a-4ff07ab8a3bf",
   "metadata": {},
   "outputs": [],
   "source": []
  },
  {
   "cell_type": "code",
   "execution_count": null,
   "id": "f7e82736-13ce-4857-a9a8-16bdf7133678",
   "metadata": {},
   "outputs": [],
   "source": []
  },
  {
   "cell_type": "code",
   "execution_count": null,
   "id": "fc8a92bd-3821-4851-ac64-5f2fc1cb7814",
   "metadata": {},
   "outputs": [],
   "source": []
  },
  {
   "cell_type": "code",
   "execution_count": null,
   "id": "ab97a6f7-0b85-471e-8e2d-f2194b1fe124",
   "metadata": {},
   "outputs": [],
   "source": []
  }
 ],
 "metadata": {
  "kernelspec": {
   "display_name": "Python 3 (ipykernel)",
   "language": "python",
   "name": "python3"
  },
  "language_info": {
   "codemirror_mode": {
    "name": "ipython",
    "version": 3
   },
   "file_extension": ".py",
   "mimetype": "text/x-python",
   "name": "python",
   "nbconvert_exporter": "python",
   "pygments_lexer": "ipython3",
   "version": "3.12.4"
  }
 },
 "nbformat": 4,
 "nbformat_minor": 5
}
