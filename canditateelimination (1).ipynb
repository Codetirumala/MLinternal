{
 "cells": [
  {
   "cell_type": "code",
   "execution_count": 2,
   "id": "a48c2ad5-073d-4076-a94f-3687db63dd31",
   "metadata": {},
   "outputs": [],
   "source": [
    "import numpy as np\n",
    "import pandas as pd"
   ]
  },
  {
   "cell_type": "code",
   "execution_count": 7,
   "id": "ea59e3ee-b275-41e6-b659-a756a10b2ee6",
   "metadata": {},
   "outputs": [
    {
     "name": "stdout",
     "output_type": "stream",
     "text": [
      "     sky  airtemp  humidity    wind   water  forcast  sport\n",
      "0   sunny    warm   normal    strong    warm     same    no\n",
      "1  sunny    warm       high   strong   warm      same    no\n",
      "2   rainy    cold      high   strong   warm   change    yes\n",
      "3  sunny     warm     high    strong   cool    change    no\n"
     ]
    }
   ],
   "source": [
    "data=pd.read_csv(\"monsoon.csv\")\n",
    "print(data)"
   ]
  },
  {
   "cell_type": "code",
   "execution_count": 8,
   "id": "4052ad52-840e-44a0-ac76-751d67e6c125",
   "metadata": {},
   "outputs": [
    {
     "name": "stdout",
     "output_type": "stream",
     "text": [
      "[['sunny' ' warm' ' normal ' 'strong' ' warm' ' same']\n",
      " ['sunny ' 'warm ' 'high' ' strong' ' warm ' 'same']\n",
      " ['rainy' ' cold' ' high' ' strong' ' warm ' 'change ']\n",
      " ['sunny ' 'warm' ' high ' 'strong' ' cool ' 'change']]\n"
     ]
    }
   ],
   "source": [
    "concepts=np.array(data.iloc[:,0:-1])\n",
    "print(concepts)"
   ]
  },
  {
   "cell_type": "code",
   "execution_count": 9,
   "id": "bbc16b1e-0d3b-440a-839a-f8512bc57172",
   "metadata": {},
   "outputs": [
    {
     "name": "stdout",
     "output_type": "stream",
     "text": [
      "[' no' ' no' 'yes' ' no']\n"
     ]
    }
   ],
   "source": [
    "target=np.array(data.iloc[:,-1])\n",
    "print(target)"
   ]
  },
  {
   "cell_type": "code",
   "execution_count": 10,
   "id": "565ccd75-edf6-459c-83b2-2e20bc5de4fa",
   "metadata": {},
   "outputs": [],
   "source": [
    "def learn(concepts,target):\n",
    "    specific_h=concepts[0].copy()\n",
    "    print(\"initialization of specific_h and general_h\")\n",
    "    print(specific_h)\n",
    "    general_h=[[\"?\" for i in range(len(specific_h))]for i in range(len(specific_h))]\n",
    "    print(general_h)\n",
    "    \n",
    "    for i,h in enumerate(concepts):\n",
    "        if target[i]==\"yes\":\n",
    "            for x in range(len(specific_h)):\n",
    "                if h[x]!=specific_h[x]:\n",
    "                    specific_h[x]=\"?\"\n",
    "                    general_h[x][x]=\"?\"\n",
    "        if target[i]==\"no\":\n",
    "            for x in range(len(specific_h)):\n",
    "                if h[x]!=specific_h[x]:\n",
    "                    general_h[x][x]=specific_h[x]\n",
    "                else:\n",
    "                    general_h[x][x]=\"?\"\n",
    "        print(\"steps of candidate elimination algorithm\",i+1)\n",
    "        print(specific_h)\n",
    "        print(general_h)\n",
    "    indices=[i for i,val in enumerate(general_h)if val==[\"?\",\"?\",\"?\",\"?\",\"?\",\"?\"]]\n",
    "    for i in indices:\n",
    "        general_h.remove([\"?\",\"?\",\"?\",\"?\",\"?\",\"?\"])\n",
    "    return specific_h,general_h "
   ]
  },
  {
   "cell_type": "code",
   "execution_count": 11,
   "id": "087328db-1778-4f29-a97e-ad489c6225d3",
   "metadata": {},
   "outputs": [
    {
     "name": "stdout",
     "output_type": "stream",
     "text": [
      "initialization of specific_h and general_h\n",
      "['sunny' ' warm' ' normal ' 'strong' ' warm' ' same']\n",
      "[['?', '?', '?', '?', '?', '?'], ['?', '?', '?', '?', '?', '?'], ['?', '?', '?', '?', '?', '?'], ['?', '?', '?', '?', '?', '?'], ['?', '?', '?', '?', '?', '?'], ['?', '?', '?', '?', '?', '?']]\n",
      "steps of candidate elimination algorithm 1\n",
      "['sunny' ' warm' ' normal ' 'strong' ' warm' ' same']\n",
      "[['?', '?', '?', '?', '?', '?'], ['?', '?', '?', '?', '?', '?'], ['?', '?', '?', '?', '?', '?'], ['?', '?', '?', '?', '?', '?'], ['?', '?', '?', '?', '?', '?'], ['?', '?', '?', '?', '?', '?']]\n",
      "steps of candidate elimination algorithm 2\n",
      "['sunny' ' warm' ' normal ' 'strong' ' warm' ' same']\n",
      "[['?', '?', '?', '?', '?', '?'], ['?', '?', '?', '?', '?', '?'], ['?', '?', '?', '?', '?', '?'], ['?', '?', '?', '?', '?', '?'], ['?', '?', '?', '?', '?', '?'], ['?', '?', '?', '?', '?', '?']]\n",
      "steps of candidate elimination algorithm 3\n",
      "['?' '?' '?' '?' '?' '?']\n",
      "[['?', '?', '?', '?', '?', '?'], ['?', '?', '?', '?', '?', '?'], ['?', '?', '?', '?', '?', '?'], ['?', '?', '?', '?', '?', '?'], ['?', '?', '?', '?', '?', '?'], ['?', '?', '?', '?', '?', '?']]\n",
      "steps of candidate elimination algorithm 4\n",
      "['?' '?' '?' '?' '?' '?']\n",
      "[['?', '?', '?', '?', '?', '?'], ['?', '?', '?', '?', '?', '?'], ['?', '?', '?', '?', '?', '?'], ['?', '?', '?', '?', '?', '?'], ['?', '?', '?', '?', '?', '?'], ['?', '?', '?', '?', '?', '?']]\n",
      "final specific_h: ['?' '?' '?' '?' '?' '?']\n",
      "final general_h: []\n"
     ]
    }
   ],
   "source": [
    "s_final,g_final=learn(concepts,target)\n",
    "print(\"final specific_h:\",s_final)\n",
    "print(\"final general_h:\",g_final)"
   ]
  },
  {
   "cell_type": "code",
   "execution_count": null,
   "id": "51654f1d-e132-4cf1-b182-219dfb005e2c",
   "metadata": {},
   "outputs": [],
   "source": []
  }
 ],
 "metadata": {
  "kernelspec": {
   "display_name": "Python 3 (ipykernel)",
   "language": "python",
   "name": "python3"
  },
  "language_info": {
   "codemirror_mode": {
    "name": "ipython",
    "version": 3
   },
   "file_extension": ".py",
   "mimetype": "text/x-python",
   "name": "python",
   "nbconvert_exporter": "python",
   "pygments_lexer": "ipython3",
   "version": "3.12.4"
  }
 },
 "nbformat": 4,
 "nbformat_minor": 5
}
