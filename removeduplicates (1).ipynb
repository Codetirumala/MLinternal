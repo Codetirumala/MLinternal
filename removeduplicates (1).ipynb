{
 "cells": [
  {
   "cell_type": "code",
   "execution_count": 6,
   "id": "d58cade2-74d8-4e28-9a84-d343c30d582b",
   "metadata": {},
   "outputs": [
    {
     "name": "stdout",
     "output_type": "stream",
     "text": [
      "Original DataFrame:\n",
      "       A   B      C\n",
      "0  teamA  50   True\n",
      "1  teamB  40  False\n",
      "2  teamB  40  False\n",
      "3  teamC  30  False\n",
      "4  teamA  50   True\n",
      "\n",
      "DataFrame after removing duplicates:\n",
      "       A   B      C\n",
      "0  teamA  50   True\n",
      "1  teamB  40  False\n",
      "3  teamC  30  False\n",
      "\n",
      "Cross-validation scores: [1.         1.         0.83333333 0.93333333 0.8       ]\n",
      "Average CV score: 0.9133333333333333\n"
     ]
    }
   ],
   "source": [
    "import pandas as pd\n",
    "data = {\n",
    "    \"A\": [\"teamA\", \"teamB\", \"teamB\", \"teamC\", \"teamA\"],\n",
    "    \"B\": [50, 40, 40, 30, 50],\n",
    "    \"C\": [True, False, False, False, True]\n",
    "}\n",
    "df = pd.DataFrame(data)\n",
    "print(\"Original DataFrame:\")\n",
    "print(df)\n",
    "\n",
    "df_no_duplicates = df.drop_duplicates()\n",
    "print(\"\\nDataFrame after removing duplicates:\")\n",
    "print(df_no_duplicates)\n",
    "\n",
    "from sklearn import datasets\n",
    "from sklearn.tree import DecisionTreeClassifier\n",
    "from sklearn.model_selection import KFold, cross_val_score\n",
    "x, y = datasets.load_iris(return_X_y=True)\n",
    "clf = DecisionTreeClassifier(random_state=42)\n",
    "k_folds = KFold(n_splits=5)\n",
    "scores = cross_val_score(clf, x, y, cv=k_folds)\n",
    "print(\"\\nCross-validation scores:\", scores)\n",
    "print(\"Average CV score:\", scores.mean())"
   ]
  },
  {
   "cell_type": "code",
   "execution_count": null,
   "id": "8aa495f0-58fb-4a1e-a2ea-624b3b1811f3",
   "metadata": {},
   "outputs": [],
   "source": []
  },
  {
   "cell_type": "code",
   "execution_count": null,
   "id": "ed29daba-aa32-416f-a5ec-c8b9d810e6b0",
   "metadata": {},
   "outputs": [],
   "source": []
  },
  {
   "cell_type": "code",
   "execution_count": null,
   "id": "94703410-799b-4c91-a4ca-0dcce26bae2a",
   "metadata": {},
   "outputs": [],
   "source": []
  }
 ],
 "metadata": {
  "kernelspec": {
   "display_name": "Python 3 (ipykernel)",
   "language": "python",
   "name": "python3"
  },
  "language_info": {
   "codemirror_mode": {
    "name": "ipython",
    "version": 3
   },
   "file_extension": ".py",
   "mimetype": "text/x-python",
   "name": "python",
   "nbconvert_exporter": "python",
   "pygments_lexer": "ipython3",
   "version": "3.12.4"
  }
 },
 "nbformat": 4,
 "nbformat_minor": 5
}
