{
 "cells": [
  {
   "cell_type": "code",
   "execution_count": 7,
   "id": "bde2b2cd",
   "metadata": {},
   "outputs": [],
   "source": [
    "import pandas as pd\n",
    "from sklearn.model_selection import train_test_split\n",
    "from sklearn.feature_extraction.text import CountVectorizer\n",
    "from sklearn.nive_bayes import MultinomialNB\n",
    "from sklearn import metrics"
   ]
  },
  {
   "cell_type": "code",
   "execution_count": 8,
   "id": "3cd92cd1",
   "metadata": {},
   "outputs": [
    {
     "name": "stdout",
     "output_type": "stream",
     "text": [
      "The dimensions of the dataset (18, 2)\n"
     ]
    }
   ],
   "source": [
    "msg=pd.read_csv('C:/Users/yug59/Downloads/document.csv',names=['message','label'])\n",
    "\n",
    "print('The dimensions of the dataset',msg.shape)"
   ]
  },
  {
   "cell_type": "code",
   "execution_count": 9,
   "id": "0bcb0df7",
   "metadata": {},
   "outputs": [],
   "source": [
    "msg['labelnum']=msg.label.map({'pos':1,'neg':0})\n",
    "X=msg.message\n",
    "y=msg.labelnum"
   ]
  },
  {
   "cell_type": "code",
   "execution_count": 10,
   "id": "9078d1ca",
   "metadata": {},
   "outputs": [
    {
     "name": "stdout",
     "output_type": "stream",
     "text": [
      "\n",
      " the total number of Training Data : (13,)\n",
      "\n",
      " the total number of Test Data : (5,)\n"
     ]
    }
   ],
   "source": [
    "xtrain,xtest,ytrain,ytest=train_test_split(X,y)\n",
    "print ('\\n the total number of Training Data :',ytrain.shape)\n",
    "print ('\\n the total number of Test Data :',ytest.shape)"
   ]
  },
  {
   "cell_type": "code",
   "execution_count": 15,
   "id": "b50fc213",
   "metadata": {},
   "outputs": [
    {
     "name": "stdout",
     "output_type": "stream",
     "text": [
      "\n",
      " The words or Tokens in the text documents \n",
      "\n",
      "['about' 'am' 'amazing' 'an' 'awesome' 'bad' 'beers' 'best' 'dance' 'do'\n",
      " 'enemy' 'feel' 'good' 'great' 'he' 'holiday' 'house' 'is' 'like'\n",
      " 'locality' 'love' 'my' 'not' 'of' 'place' 'restaurant' 'sandwich' 'stay'\n",
      " 'stuff' 'sworn' 'that' 'these' 'this' 'tired' 'to' 'today' 'very' 'view'\n",
      " 'went' 'what' 'work']\n"
     ]
    }
   ],
   "source": [
    "cv = CountVectorizer()\n",
    "xtrain_dtm = cv.fit_transform(xtrain)\n",
    "xtest_dtm=cv.transform(xtest)\n",
    "print('\\n The words or Tokens in the text documents \\n')\n",
    "print(cv.get_feature_names_out())\n",
    "df=pd.DataFrame(xtrain_dtm.toarray(),columns=cv.get_feature_names_out())"
   ]
  },
  {
   "cell_type": "code",
   "execution_count": 16,
   "id": "19370863",
   "metadata": {},
   "outputs": [],
   "source": [
    "clf = MultinomialNB().fit(xtrain_dtm,ytrain)\n",
    "predicted = clf.predict(xtest_dtm)"
   ]
  },
  {
   "cell_type": "code",
   "execution_count": 17,
   "id": "28328212",
   "metadata": {},
   "outputs": [
    {
     "name": "stdout",
     "output_type": "stream",
     "text": [
      "\n",
      " Accuracy of the classifier is 0.6\n",
      "\n",
      " Confusion matrix\n",
      "[[2 2]\n",
      " [0 1]]\n",
      "\n",
      " The value of Precision 0.3333333333333333\n",
      "\n",
      " The value of Recall 1.0\n"
     ]
    }
   ],
   "source": [
    "print('\\n Accuracy of the classifier is',metrics.accuracy_score(ytest,predicted))\n",
    "print('\\n Confusion matrix')\n",
    "print(metrics.confusion_matrix(ytest,predicted))\n",
    "print('\\n The value of Precision', metrics.precision_score(ytest,predicted))\n",
    "print('\\n The value of Recall', metrics.recall_score(ytest,predicted))\n"
   ]
  },
  {
   "cell_type": "code",
   "execution_count": null,
   "id": "7e1b5f86",
   "metadata": {},
   "outputs": [],
   "source": []
  }
 ],
 "metadata": {
  "kernelspec": {
   "display_name": "Python 3 (ipykernel)",
   "language": "python",
   "name": "python3"
  },
  "language_info": {
   "codemirror_mode": {
    "name": "ipython",
    "version": 3
   },
   "file_extension": ".py",
   "mimetype": "text/x-python",
   "name": "python",
   "nbconvert_exporter": "python",
   "pygments_lexer": "ipython3",
   "version": "3.12.4"
  }
 },
 "nbformat": 4,
 "nbformat_minor": 5
}
