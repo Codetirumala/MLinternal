{
 "cells": [
  {
   "cell_type": "code",
   "execution_count": 2,
   "id": "e3cbe7b1",
   "metadata": {},
   "outputs": [
    {
     "name": "stdout",
     "output_type": "stream",
     "text": [
      "Collecting mlxtend\n",
      "  Downloading mlxtend-0.23.1-py3-none-any.whl (1.4 MB)\n",
      "                                              0.0/1.4 MB ? eta -:--:--\n",
      "                                              0.0/1.4 MB ? eta -:--:--\n",
      "                                              0.0/1.4 MB ? eta -:--:--\n",
      "     --                                       0.1/1.4 MB 751.6 kB/s eta 0:00:02\n",
      "     --                                       0.1/1.4 MB 751.6 kB/s eta 0:00:02\n",
      "     ----                                     0.2/1.4 MB 807.1 kB/s eta 0:00:02\n",
      "     -----                                    0.2/1.4 MB 787.7 kB/s eta 0:00:02\n",
      "     ------                                   0.2/1.4 MB 758.5 kB/s eta 0:00:02\n",
      "     --------                                 0.3/1.4 MB 936.6 kB/s eta 0:00:02\n",
      "     ----------                               0.4/1.4 MB 955.7 kB/s eta 0:00:02\n",
      "     -----------                              0.4/1.4 MB 1.0 MB/s eta 0:00:02\n",
      "     -----------                              0.4/1.4 MB 1.0 MB/s eta 0:00:02\n",
      "     --------------                           0.5/1.4 MB 1.0 MB/s eta 0:00:01\n",
      "     ----------------                         0.6/1.4 MB 1.1 MB/s eta 0:00:01\n",
      "     ------------------                       0.7/1.4 MB 1.1 MB/s eta 0:00:01\n",
      "     -------------------                      0.7/1.4 MB 1.1 MB/s eta 0:00:01\n",
      "     -------------------                      0.7/1.4 MB 1.1 MB/s eta 0:00:01\n",
      "     ----------------------                   0.8/1.4 MB 1.1 MB/s eta 0:00:01\n",
      "     -----------------------                  0.9/1.4 MB 1.1 MB/s eta 0:00:01\n",
      "     -------------------------                0.9/1.4 MB 1.1 MB/s eta 0:00:01\n",
      "     --------------------------               1.0/1.4 MB 1.1 MB/s eta 0:00:01\n",
      "     --------------------------               1.0/1.4 MB 1.1 MB/s eta 0:00:01\n",
      "     ---------------------------              1.0/1.4 MB 1.0 MB/s eta 0:00:01\n",
      "     ---------------------------              1.0/1.4 MB 1.1 MB/s eta 0:00:01\n",
      "     ----------------------------             1.0/1.4 MB 1.0 MB/s eta 0:00:01\n",
      "     -----------------------------            1.1/1.4 MB 1.0 MB/s eta 0:00:01\n",
      "     ------------------------------           1.1/1.4 MB 1.0 MB/s eta 0:00:01\n",
      "     -------------------------------          1.1/1.4 MB 1.0 MB/s eta 0:00:01\n",
      "     --------------------------------         1.2/1.4 MB 982.6 kB/s eta 0:00:01\n",
      "     ---------------------------------        1.2/1.4 MB 982.8 kB/s eta 0:00:01\n",
      "     ----------------------------------       1.2/1.4 MB 970.6 kB/s eta 0:00:01\n",
      "     -----------------------------------      1.3/1.4 MB 971.1 kB/s eta 0:00:01\n",
      "     -----------------------------------      1.3/1.4 MB 963.9 kB/s eta 0:00:01\n",
      "     -------------------------------------    1.4/1.4 MB 964.4 kB/s eta 0:00:01\n",
      "     --------------------------------------   1.4/1.4 MB 968.5 kB/s eta 0:00:01\n",
      "     ---------------------------------------- 1.4/1.4 MB 990.6 kB/s eta 0:00:00\n",
      "Requirement already satisfied: scipy>=1.2.1 in c:\\users\\yug59\\appdata\\roaming\\python\\python39\\site-packages (from mlxtend) (1.10.1)\n",
      "Requirement already satisfied: numpy>=1.16.2 in c:\\users\\yug59\\appdata\\roaming\\python\\python39\\site-packages (from mlxtend) (1.23.5)\n",
      "Requirement already satisfied: pandas>=0.24.2 in c:\\users\\yug59\\anaconda3\\lib\\site-packages (from mlxtend) (1.5.3)\n",
      "Requirement already satisfied: scikit-learn>=1.0.2 in c:\\users\\yug59\\anaconda3\\lib\\site-packages (from mlxtend) (1.2.2)\n",
      "Requirement already satisfied: matplotlib>=3.0.0 in c:\\users\\yug59\\anaconda3\\lib\\site-packages (from mlxtend) (3.7.1)\n",
      "Requirement already satisfied: joblib>=0.13.2 in c:\\users\\yug59\\anaconda3\\lib\\site-packages (from mlxtend) (1.2.0)\n",
      "Requirement already satisfied: contourpy>=1.0.1 in c:\\users\\yug59\\anaconda3\\lib\\site-packages (from matplotlib>=3.0.0->mlxtend) (1.0.5)\n",
      "Requirement already satisfied: cycler>=0.10 in c:\\users\\yug59\\anaconda3\\lib\\site-packages (from matplotlib>=3.0.0->mlxtend) (0.11.0)\n",
      "Requirement already satisfied: fonttools>=4.22.0 in c:\\users\\yug59\\anaconda3\\lib\\site-packages (from matplotlib>=3.0.0->mlxtend) (4.25.0)\n",
      "Requirement already satisfied: kiwisolver>=1.0.1 in c:\\users\\yug59\\anaconda3\\lib\\site-packages (from matplotlib>=3.0.0->mlxtend) (1.4.4)\n",
      "Requirement already satisfied: packaging>=20.0 in c:\\users\\yug59\\appdata\\roaming\\python\\python39\\site-packages (from matplotlib>=3.0.0->mlxtend) (23.0)\n",
      "Requirement already satisfied: pillow>=6.2.0 in c:\\users\\yug59\\anaconda3\\lib\\site-packages (from matplotlib>=3.0.0->mlxtend) (9.4.0)\n",
      "Requirement already satisfied: pyparsing>=2.3.1 in c:\\users\\yug59\\anaconda3\\lib\\site-packages (from matplotlib>=3.0.0->mlxtend) (3.0.9)\n",
      "Requirement already satisfied: python-dateutil>=2.7 in c:\\users\\yug59\\anaconda3\\lib\\site-packages (from matplotlib>=3.0.0->mlxtend) (2.8.2)\n",
      "Requirement already satisfied: importlib-resources>=3.2.0 in c:\\users\\yug59\\anaconda3\\lib\\site-packages (from matplotlib>=3.0.0->mlxtend) (5.2.0)\n",
      "Requirement already satisfied: pytz>=2020.1 in c:\\users\\yug59\\anaconda3\\lib\\site-packages (from pandas>=0.24.2->mlxtend) (2022.7)\n",
      "Requirement already satisfied: threadpoolctl>=2.0.0 in c:\\users\\yug59\\anaconda3\\lib\\site-packages (from scikit-learn>=1.0.2->mlxtend) (2.2.0)\n",
      "Requirement already satisfied: zipp>=3.1.0 in c:\\users\\yug59\\appdata\\roaming\\python\\python39\\site-packages (from importlib-resources>=3.2.0->matplotlib>=3.0.0->mlxtend) (3.15.0)\n",
      "Requirement already satisfied: six>=1.5 in c:\\users\\yug59\\appdata\\roaming\\python\\python39\\site-packages (from python-dateutil>=2.7->matplotlib>=3.0.0->mlxtend) (1.16.0)\n",
      "Installing collected packages: mlxtend\n",
      "Successfully installed mlxtend-0.23.1\n",
      "Note: you may need to restart the kernel to use updated packages.\n"
     ]
    }
   ],
   "source": [
    "pip install mlxtend"
   ]
  },
  {
   "cell_type": "code",
   "execution_count": 3,
   "id": "0f98c272",
   "metadata": {},
   "outputs": [],
   "source": [
    "from sklearn.model_selection import train_test_split\n",
    "from sklearn.linear_model import LinearRegression\n",
    "from sklearn.datasets import fetch_california_housing\n",
    "from mlxtend.evaluate import bias_variance_decomp\n",
    "# preparing the dataset into inputs (feature matrix) and outputs (target vector)\n",
    "data = fetch_california_housing()  # fetch the data\n",
    "X = data.data  # feature matrix\n",
    "y = data.target  # target vector\n",
    " "
   ]
  },
  {
   "cell_type": "code",
   "execution_count": 4,
   "id": "8dcd4dca",
   "metadata": {},
   "outputs": [],
   "source": [
    "# split the data into training and test samples\n",
    "X_train, X_test, y_train, y_test = train_test_split(X, y, test_size=0.3)\n",
    "# define the model\n",
    "model = LinearRegression()\n",
    "avg_expected_loss, avg_bias, avg_var = bias_variance_decomp(model, X_train,\n",
    "                                                            y_train, X_test,\n",
    "                                                            y_test,\n",
    "                                                            loss='mse',\n",
    "                                                            num_rounds=50,\n",
    "                                                            random_seed=20)\n"
   ]
  },
  {
   "cell_type": "code",
   "execution_count": 5,
   "id": "e174e16a",
   "metadata": {},
   "outputs": [
    {
     "name": "stdout",
     "output_type": "stream",
     "text": [
      "Average expected loss: 0.528\n",
      "Average bias: 0.527\n",
      "Average variance: 0.001\n"
     ]
    }
   ],
   "source": [
    "# summary of the results\n",
    "print('Average expected loss: %.3f' % avg_expected_loss)\n",
    "print('Average bias: %.3f' % avg_bias)\n",
    "print('Average variance: %.3f' % avg_var)"
   ]
  },
  {
   "cell_type": "code",
   "execution_count": 6,
   "id": "888ea257",
   "metadata": {},
   "outputs": [
    {
     "data": {
      "text/html": [
       "<div>\n",
       "<style scoped>\n",
       "    .dataframe tbody tr th:only-of-type {\n",
       "        vertical-align: middle;\n",
       "    }\n",
       "\n",
       "    .dataframe tbody tr th {\n",
       "        vertical-align: top;\n",
       "    }\n",
       "\n",
       "    .dataframe thead th {\n",
       "        text-align: right;\n",
       "    }\n",
       "</style>\n",
       "<table border=\"1\" class=\"dataframe\">\n",
       "  <thead>\n",
       "    <tr style=\"text-align: right;\">\n",
       "      <th></th>\n",
       "      <th>A</th>\n",
       "      <th>B</th>\n",
       "      <th>C</th>\n",
       "    </tr>\n",
       "  </thead>\n",
       "  <tbody>\n",
       "    <tr>\n",
       "      <th>0</th>\n",
       "      <td>TeamA</td>\n",
       "      <td>50</td>\n",
       "      <td>True</td>\n",
       "    </tr>\n",
       "    <tr>\n",
       "      <th>1</th>\n",
       "      <td>TeamB</td>\n",
       "      <td>40</td>\n",
       "      <td>False</td>\n",
       "    </tr>\n",
       "    <tr>\n",
       "      <th>3</th>\n",
       "      <td>TeamC</td>\n",
       "      <td>30</td>\n",
       "      <td>False</td>\n",
       "    </tr>\n",
       "  </tbody>\n",
       "</table>\n",
       "</div>"
      ],
      "text/plain": [
       "       A   B      C\n",
       "0  TeamA  50   True\n",
       "1  TeamB  40  False\n",
       "3  TeamC  30  False"
      ]
     },
     "metadata": {},
     "output_type": "display_data"
    }
   ],
   "source": [
    "\n",
    "#Removing Duplicates\n",
    "import pandas as pd\n",
    "\n",
    "data = {\n",
    "\t\"A\": [\"TeamA\", \"TeamB\", \"TeamB\", \"TeamC\", \"TeamA\"],\n",
    "\t\"B\": [50, 40, 40, 30, 50],\n",
    "\t\"C\": [True, False, False, False, True]\n",
    "}\n",
    "\n",
    "df = pd.DataFrame(data)\n",
    "\n",
    "display(df.drop_duplicates())\n"
   ]
  },
  {
   "cell_type": "code",
   "execution_count": 7,
   "id": "2262e19a",
   "metadata": {},
   "outputs": [
    {
     "name": "stdout",
     "output_type": "stream",
     "text": [
      "Cross Validation Scores:  [1.         1.         0.83333333 0.93333333 0.8       ]\n",
      "Average CV Score:  0.9133333333333333\n",
      "Number of CV Scores used in Average:  5\n"
     ]
    }
   ],
   "source": [
    "#Cross Validation\n",
    "from sklearn import datasets\n",
    "from sklearn.tree import DecisionTreeClassifier\n",
    "from sklearn.model_selection import KFold, cross_val_score\n",
    "\n",
    "X, y = datasets.load_iris(return_X_y=True)\n",
    "\n",
    "clf = DecisionTreeClassifier(random_state=42)\n",
    "\n",
    "k_folds = KFold(n_splits = 5)\n",
    "\n",
    "scores = cross_val_score(clf, X, y, cv = k_folds)\n",
    "\n",
    "print(\"Cross Validation Scores: \", scores)\n",
    "print(\"Average CV Score: \", scores.mean())\n",
    "print(\"Number of CV Scores used in Average: \", len(scores))"
   ]
  },
  {
   "cell_type": "code",
   "execution_count": null,
   "id": "a8c94ce0",
   "metadata": {},
   "outputs": [],
   "source": []
  }
 ],
 "metadata": {
  "kernelspec": {
   "display_name": "Python 3 (ipykernel)",
   "language": "python",
   "name": "python3"
  },
  "language_info": {
   "codemirror_mode": {
    "name": "ipython",
    "version": 3
   },
   "file_extension": ".py",
   "mimetype": "text/x-python",
   "name": "python",
   "nbconvert_exporter": "python",
   "pygments_lexer": "ipython3",
   "version": "3.9.16"
  }
 },
 "nbformat": 4,
 "nbformat_minor": 5
}
