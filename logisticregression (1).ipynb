{
 "cells": [
  {
   "cell_type": "code",
   "execution_count": 1,
   "id": "a21a31ad-8eba-4ace-be37-02fffeabcd9a",
   "metadata": {},
   "outputs": [
    {
     "name": "stdout",
     "output_type": "stream",
     "text": [
      "accuracy: 1.00\n",
      "precision: 1.00\n",
      "recall: 1.00\n",
      "f1 score: 1.00\n"
     ]
    }
   ],
   "source": [
    "from sklearn.linear_model import LogisticRegression\n",
    "from sklearn.model_selection import train_test_split\n",
    "from sklearn.metrics import accuracy_score, precision_score, recall_score, f1_score\n",
    "\n",
    "\n",
    "customer_data = {'age' : [30, 48, 42, 19, 31, 25, 55, 37, 2, 48],\n",
    "                 'duration': [5, 2, 7, 4, 9, 3, 19, 1, 6, 7],\n",
    "                 'pattern' : ['high', 'low', 'medium', 'medium', 'high', 'low', 'high', 'low', 'high', 'medium'],\n",
    "                 'churn' : [0, 1, 1, 1, 0, 1, 0, 1, 1, 0]\n",
    "                }\n",
    "\n",
    "import pandas as pd\n",
    "customer_df = pd.DataFrame(customer_data)\n",
    "\n",
    "\n",
    "customer_df['pattern']=customer_df['pattern'].map({'low' : 0, 'medium' : 1, 'high' : 2})\n",
    "\n",
    "\n",
    "X = customer_df[['age', 'duration', 'pattern']]\n",
    "y = customer_df['churn']\n",
    "\n",
    "X_train, X_test, y_train, y_test = train_test_split(X, y, test_size=0.2, random_state=42)\n",
    "\n",
    "\n",
    "logreg = LogisticRegression()\n",
    "logreg.fit(X_train, y_train)\n",
    "\n",
    "y_pred = logreg.predict(X_test)\n",
    "\n",
    "accuracy = accuracy_score(y_test, y_pred)\n",
    "precision = precision_score(y_test, y_pred)\n",
    "recall = recall_score(y_test, y_pred)\n",
    "f1 = f1_score(y_test, y_pred)\n",
    "\n",
    "print(f'accuracy: {accuracy:.2f}')\n",
    "print(f'precision: {precision:.2f}')\n",
    "print(f'recall: {recall:.2f}')\n",
    "print(f'f1 score: {f1:.2f}')"
   ]
  },
  {
   "cell_type": "code",
   "execution_count": null,
   "id": "77754a35-8b4f-4e64-bba9-ae198c7c7b43",
   "metadata": {},
   "outputs": [],
   "source": []
  }
 ],
 "metadata": {
  "kernelspec": {
   "display_name": "Python 3 (ipykernel)",
   "language": "python",
   "name": "python3"
  },
  "language_info": {
   "codemirror_mode": {
    "name": "ipython",
    "version": 3
   },
   "file_extension": ".py",
   "mimetype": "text/x-python",
   "name": "python",
   "nbconvert_exporter": "python",
   "pygments_lexer": "ipython3",
   "version": "3.12.4"
  }
 },
 "nbformat": 4,
 "nbformat_minor": 5
}
